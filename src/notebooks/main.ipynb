{
 "cells": [
  {
   "cell_type": "markdown",
   "id": "00697eb9",
   "metadata": {},
   "source": [
    "# Hola Mundo!"
   ]
  },
  {
   "cell_type": "code",
   "execution_count": 1,
   "id": "5016f343",
   "metadata": {},
   "outputs": [
    {
     "name": "stdout",
     "output_type": "stream",
     "text": [
      "Hola Mundo!\n"
     ]
    }
   ],
   "source": [
    "print(\"Hola Mundo!\") # Hola Mundo!"
   ]
  }
 ],
 "metadata": {
  "kernelspec": {
   "display_name": "docs-J5aK385Z-py3.10",
   "language": "python",
   "name": "python3"
  },
  "language_info": {
   "codemirror_mode": {
    "name": "ipython",
    "version": 3
   },
   "file_extension": ".py",
   "mimetype": "text/x-python",
   "name": "python",
   "nbconvert_exporter": "python",
   "pygments_lexer": "ipython3",
   "version": "3.10.11"
  }
 },
 "nbformat": 4,
 "nbformat_minor": 5
}
